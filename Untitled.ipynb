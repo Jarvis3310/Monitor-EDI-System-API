{
 "cells": [
  {
   "cell_type": "code",
   "execution_count": 38,
   "id": "0eb8b754-157e-4403-a294-da1c7f672c4a",
   "metadata": {},
   "outputs": [
    {
     "ename": "ModuleNotFoundError",
     "evalue": "No module named 'uvicorn'",
     "output_type": "error",
     "traceback": [
      "\u001b[1;31m---------------------------------------------------------------------------\u001b[0m",
      "\u001b[1;31mModuleNotFoundError\u001b[0m                       Traceback (most recent call last)",
      "Cell \u001b[1;32mIn[38], line 51\u001b[0m\n\u001b[0;32m     48\u001b[0m     \u001b[38;5;28;01mawait\u001b[39;00m websocket\u001b[38;5;241m.\u001b[39mclose()\n\u001b[0;32m     50\u001b[0m \u001b[38;5;28;01mif\u001b[39;00m \u001b[38;5;18m__name__\u001b[39m \u001b[38;5;241m==\u001b[39m \u001b[38;5;124m\"\u001b[39m\u001b[38;5;124m__main__\u001b[39m\u001b[38;5;124m\"\u001b[39m:\n\u001b[1;32m---> 51\u001b[0m     \u001b[38;5;28;01mimport\u001b[39;00m \u001b[38;5;21;01muvicorn\u001b[39;00m\n\u001b[0;32m     52\u001b[0m     uvicorn\u001b[38;5;241m.\u001b[39mrun(app, host\u001b[38;5;241m=\u001b[39m\u001b[38;5;124m\"\u001b[39m\u001b[38;5;124m0.0.0.0\u001b[39m\u001b[38;5;124m\"\u001b[39m, port\u001b[38;5;241m=\u001b[39m\u001b[38;5;241m8000\u001b[39m)\n",
      "\u001b[1;31mModuleNotFoundError\u001b[0m: No module named 'uvicorn'"
     ]
    }
   ],
   "source": [
    "import json\n",
    "import pymysql\n",
    "import base64\n",
    "import uvicorn\n",
    "from Crypto.Cipher import AES\n",
    "from Crypto.Hash import SHA256\n",
    "from fastapi import FastAPI, WebSocket\n",
    "\n",
    "with open(\"sql_config.json\", \"r\") as f:\n",
    "    config = json.load(f)\n",
    "    boss_config = config[\"boss\"]\n",
    "\n",
    "def decrypt(source):\n",
    "    source = base64.b64decode(source.encode(\"utf8\"))\n",
    "    key = SHA256.new(b\"ZDu9FpVGBWGUD3FNfuzMMxPcs2snrd9HFrmvUxWp5PTm28TED73yMM6nYRMwFDdY\").digest()\n",
    "    IV = source[:AES.block_size]\n",
    "    decryptor = AES.new(key, AES.MODE_CBC, IV)\n",
    "    data = decryptor.decrypt(source[AES.block_size:])\n",
    "    padding = data[-1]\n",
    "    if data[-padding:] != bytes([padding]) * padding:\n",
    "        return \"\"\n",
    "    return data[:-padding].decode(\"utf8\")\n",
    "\n",
    "app = FastAPI()\n",
    "\n",
    "def kh_sit_flow():\n",
    "    connect = pymysql.connect(\n",
    "                host=boss_config[\"host\"], \n",
    "                user=boss_config['user']+'@'+boss_config['host'].split('.mariadb')[0],\n",
    "                passwd=decrypt(boss_config[\"password\"]), \n",
    "                db=boss_config['db'], \n",
    "                charset=\"utf8\",\n",
    "                ssl={\"fake_flag_to_enable_tls\":True})\n",
    "    with connect.cursor() as cursor:\n",
    "        sql = \"SELECT EDI_NO, EDI_ID, EDI_FLOW_ID, JOB_ALL_CN, DATA_DATE, STATUS_ID, RESULT_ID, IS_AUTOMATIC, DATE_FORMAT(DT_BEGIN, '%Y-%m-%d %H:%i') as DT_BEGIN, DATE_FORMAT(DT_END, '%Y-%m-%d %H:%i') as DT_END FROM CHAIEDI.EDI_FLOW\"\n",
    "        cursor.execute(sql)\n",
    "        data = cursor.fetchall()\n",
    "    connect.close()\n",
    "    return data\n",
    "\n",
    "def kh_sit_job():\n",
    "    connect = pymysql.connect(\n",
    "                host=boss_config[\"host\"], \n",
    "                user=boss_config['user']+'@'+boss_config['host'].split('.mariadb')[0],\n",
    "                passwd=decrypt(boss_config[\"password\"]), \n",
    "                db=boss_config['db'], \n",
    "                charset=\"utf8\",\n",
    "                ssl={\"fake_flag_to_enable_tls\":True})\n",
    "    with connect.cursor() as cursor:\n",
    "        sql = \"SELECT EDI_NO, EDI_JOB_NO, EDI_JOB_ID, EDI_JOB_TYPE, STATUS_ID, RESULT_ID, IS_AUTOMATIC, DATE_FORMAT(DT_BEGIN, '%Y-%m-%d %H:%i') as DT_BEGIN, DATE_FORMAT(DT_END, '%Y-%m-%d %H:%i') as DT_END FROM CHAIEDI.EDI_JOB\"\n",
    "        cursor.execute(sql)\n",
    "        data = cursor.fetchall()\n",
    "    connect.close()\n",
    "    return data\n",
    "\n",
    "@app.websocket(\"/kh-sit-flow\")\n",
    "async def websocket_endpoint(websocket: WebSocket):\n",
    "    await websocket.accept()\n",
    "    kh_sit_flow_data = kh_sit_flow()\n",
    "    for row in kh_sit_flow_data:\n",
    "        await websocket.send_json(row)\n",
    "    await websocket.close()\n",
    "\n",
    "@app.websocket(\"/kh-sit-job\")\n",
    "async def websocket_endpoint(websocket: WebSocket):\n",
    "    await websocket.accept()\n",
    "    kh_sit_job_data = kh_sit_flow()\n",
    "    for row in kh_sit_job_data:\n",
    "        await websocket.send_json(row)\n",
    "    await websocket.close()\n",
    "\n",
    "if __name__ == \"__main__\":\n",
    "    uvicorn.run(app, host=\"0.0.0.0\", port=8000)\n"
   ]
  },
  {
   "cell_type": "code",
   "execution_count": 4,
   "id": "5f260738-a433-4fde-911f-32f254adb3c6",
   "metadata": {},
   "outputs": [
    {
     "ename": "ConnectionClosedError",
     "evalue": "no close frame received or sent",
     "output_type": "error",
     "traceback": [
      "\u001b[1;31m---------------------------------------------------------------------------\u001b[0m",
      "\u001b[1;31mIncompleteReadError\u001b[0m                       Traceback (most recent call last)",
      "File \u001b[1;32m~\\AppData\\Local\\Programs\\Python\\Python38\\lib\\site-packages\\websockets\\legacy\\protocol.py:959\u001b[0m, in \u001b[0;36mWebSocketCommonProtocol.transfer_data\u001b[1;34m(self)\u001b[0m\n\u001b[0;32m    958\u001b[0m \u001b[38;5;28;01mwhile\u001b[39;00m \u001b[38;5;28;01mTrue\u001b[39;00m:\n\u001b[1;32m--> 959\u001b[0m     message \u001b[38;5;241m=\u001b[39m \u001b[38;5;28;01mawait\u001b[39;00m \u001b[38;5;28mself\u001b[39m\u001b[38;5;241m.\u001b[39mread_message()\n\u001b[0;32m    961\u001b[0m     \u001b[38;5;66;03m# Exit the loop when receiving a close frame.\u001b[39;00m\n",
      "File \u001b[1;32m~\\AppData\\Local\\Programs\\Python\\Python38\\lib\\site-packages\\websockets\\legacy\\protocol.py:1029\u001b[0m, in \u001b[0;36mWebSocketCommonProtocol.read_message\u001b[1;34m(self)\u001b[0m\n\u001b[0;32m   1021\u001b[0m \u001b[38;5;124;03m\"\"\"\u001b[39;00m\n\u001b[0;32m   1022\u001b[0m \u001b[38;5;124;03mRead a single message from the connection.\u001b[39;00m\n\u001b[0;32m   1023\u001b[0m \n\u001b[1;32m   (...)\u001b[0m\n\u001b[0;32m   1027\u001b[0m \n\u001b[0;32m   1028\u001b[0m \u001b[38;5;124;03m\"\"\"\u001b[39;00m\n\u001b[1;32m-> 1029\u001b[0m frame \u001b[38;5;241m=\u001b[39m \u001b[38;5;28;01mawait\u001b[39;00m \u001b[38;5;28mself\u001b[39m\u001b[38;5;241m.\u001b[39mread_data_frame(max_size\u001b[38;5;241m=\u001b[39m\u001b[38;5;28mself\u001b[39m\u001b[38;5;241m.\u001b[39mmax_size)\n\u001b[0;32m   1031\u001b[0m \u001b[38;5;66;03m# A close frame was received.\u001b[39;00m\n",
      "File \u001b[1;32m~\\AppData\\Local\\Programs\\Python\\Python38\\lib\\site-packages\\websockets\\legacy\\protocol.py:1104\u001b[0m, in \u001b[0;36mWebSocketCommonProtocol.read_data_frame\u001b[1;34m(self, max_size)\u001b[0m\n\u001b[0;32m   1103\u001b[0m \u001b[38;5;28;01mwhile\u001b[39;00m \u001b[38;5;28;01mTrue\u001b[39;00m:\n\u001b[1;32m-> 1104\u001b[0m     frame \u001b[38;5;241m=\u001b[39m \u001b[38;5;28;01mawait\u001b[39;00m \u001b[38;5;28mself\u001b[39m\u001b[38;5;241m.\u001b[39mread_frame(max_size)\n\u001b[0;32m   1106\u001b[0m     \u001b[38;5;66;03m# 5.5. Control Frames\u001b[39;00m\n",
      "File \u001b[1;32m~\\AppData\\Local\\Programs\\Python\\Python38\\lib\\site-packages\\websockets\\legacy\\protocol.py:1161\u001b[0m, in \u001b[0;36mWebSocketCommonProtocol.read_frame\u001b[1;34m(self, max_size)\u001b[0m\n\u001b[0;32m   1157\u001b[0m \u001b[38;5;124;03m\"\"\"\u001b[39;00m\n\u001b[0;32m   1158\u001b[0m \u001b[38;5;124;03mRead a single frame from the connection.\u001b[39;00m\n\u001b[0;32m   1159\u001b[0m \n\u001b[0;32m   1160\u001b[0m \u001b[38;5;124;03m\"\"\"\u001b[39;00m\n\u001b[1;32m-> 1161\u001b[0m frame \u001b[38;5;241m=\u001b[39m \u001b[38;5;28;01mawait\u001b[39;00m Frame\u001b[38;5;241m.\u001b[39mread(\n\u001b[0;32m   1162\u001b[0m     \u001b[38;5;28mself\u001b[39m\u001b[38;5;241m.\u001b[39mreader\u001b[38;5;241m.\u001b[39mreadexactly,\n\u001b[0;32m   1163\u001b[0m     mask\u001b[38;5;241m=\u001b[39m\u001b[38;5;129;01mnot\u001b[39;00m \u001b[38;5;28mself\u001b[39m\u001b[38;5;241m.\u001b[39mis_client,\n\u001b[0;32m   1164\u001b[0m     max_size\u001b[38;5;241m=\u001b[39mmax_size,\n\u001b[0;32m   1165\u001b[0m     extensions\u001b[38;5;241m=\u001b[39m\u001b[38;5;28mself\u001b[39m\u001b[38;5;241m.\u001b[39mextensions,\n\u001b[0;32m   1166\u001b[0m )\n\u001b[0;32m   1167\u001b[0m \u001b[38;5;28;01mif\u001b[39;00m \u001b[38;5;28mself\u001b[39m\u001b[38;5;241m.\u001b[39mdebug:\n",
      "File \u001b[1;32m~\\AppData\\Local\\Programs\\Python\\Python38\\lib\\site-packages\\websockets\\legacy\\framing.py:68\u001b[0m, in \u001b[0;36mFrame.read\u001b[1;34m(cls, reader, mask, max_size, extensions)\u001b[0m\n\u001b[0;32m     67\u001b[0m \u001b[38;5;66;03m# Read the header.\u001b[39;00m\n\u001b[1;32m---> 68\u001b[0m data \u001b[38;5;241m=\u001b[39m \u001b[38;5;28;01mawait\u001b[39;00m reader(\u001b[38;5;241m2\u001b[39m)\n\u001b[0;32m     69\u001b[0m head1, head2 \u001b[38;5;241m=\u001b[39m struct\u001b[38;5;241m.\u001b[39munpack(\u001b[38;5;124m\"\u001b[39m\u001b[38;5;124m!BB\u001b[39m\u001b[38;5;124m\"\u001b[39m, data)\n",
      "File \u001b[1;32m~\\AppData\\Local\\Programs\\Python\\Python38\\lib\\asyncio\\streams.py:721\u001b[0m, in \u001b[0;36mStreamReader.readexactly\u001b[1;34m(self, n)\u001b[0m\n\u001b[0;32m    720\u001b[0m     \u001b[38;5;28mself\u001b[39m\u001b[38;5;241m.\u001b[39m_buffer\u001b[38;5;241m.\u001b[39mclear()\n\u001b[1;32m--> 721\u001b[0m     \u001b[38;5;28;01mraise\u001b[39;00m exceptions\u001b[38;5;241m.\u001b[39mIncompleteReadError(incomplete, n)\n\u001b[0;32m    723\u001b[0m \u001b[38;5;28;01mawait\u001b[39;00m \u001b[38;5;28mself\u001b[39m\u001b[38;5;241m.\u001b[39m_wait_for_data(\u001b[38;5;124m'\u001b[39m\u001b[38;5;124mreadexactly\u001b[39m\u001b[38;5;124m'\u001b[39m)\n",
      "\u001b[1;31mIncompleteReadError\u001b[0m: 0 bytes read on a total of 2 expected bytes",
      "\nThe above exception was the direct cause of the following exception:\n",
      "\u001b[1;31mConnectionClosedError\u001b[0m                     Traceback (most recent call last)",
      "Input \u001b[1;32mIn [4]\u001b[0m, in \u001b[0;36m<cell line: 10>\u001b[1;34m()\u001b[0m\n\u001b[0;32m      7\u001b[0m         data \u001b[38;5;241m=\u001b[39m \u001b[38;5;28;01mawait\u001b[39;00m websocket\u001b[38;5;241m.\u001b[39mrecv()\n\u001b[0;32m      8\u001b[0m         \u001b[38;5;28mprint\u001b[39m(data)\n\u001b[1;32m---> 10\u001b[0m \u001b[38;5;28;01mawait\u001b[39;00m test_ws()\n",
      "Input \u001b[1;32mIn [4]\u001b[0m, in \u001b[0;36mtest_ws\u001b[1;34m()\u001b[0m\n\u001b[0;32m      5\u001b[0m uri \u001b[38;5;241m=\u001b[39m \u001b[38;5;124m\"\u001b[39m\u001b[38;5;124mws://localhost:8000/kh-sit-flow\u001b[39m\u001b[38;5;124m\"\u001b[39m\n\u001b[0;32m      6\u001b[0m \u001b[38;5;28;01masync\u001b[39;00m \u001b[38;5;28;01mwith\u001b[39;00m websockets\u001b[38;5;241m.\u001b[39mconnect(uri) \u001b[38;5;28;01mas\u001b[39;00m websocket:\n\u001b[1;32m----> 7\u001b[0m     data \u001b[38;5;241m=\u001b[39m \u001b[38;5;28;01mawait\u001b[39;00m websocket\u001b[38;5;241m.\u001b[39mrecv()\n\u001b[0;32m      8\u001b[0m     \u001b[38;5;28mprint\u001b[39m(data)\n",
      "File \u001b[1;32m~\\AppData\\Local\\Programs\\Python\\Python38\\lib\\site-packages\\websockets\\legacy\\protocol.py:568\u001b[0m, in \u001b[0;36mWebSocketCommonProtocol.recv\u001b[1;34m(self)\u001b[0m\n\u001b[0;32m    564\u001b[0m             \u001b[38;5;28;01mreturn\u001b[39;00m \u001b[38;5;28;01mNone\u001b[39;00m  \u001b[38;5;66;03m# type: ignore\u001b[39;00m\n\u001b[0;32m    565\u001b[0m         \u001b[38;5;28;01melse\u001b[39;00m:\n\u001b[0;32m    566\u001b[0m             \u001b[38;5;66;03m# Wait until the connection is closed to raise\u001b[39;00m\n\u001b[0;32m    567\u001b[0m             \u001b[38;5;66;03m# ConnectionClosed with the correct code and reason.\u001b[39;00m\n\u001b[1;32m--> 568\u001b[0m             \u001b[38;5;28;01mawait\u001b[39;00m \u001b[38;5;28mself\u001b[39m\u001b[38;5;241m.\u001b[39mensure_open()\n\u001b[0;32m    570\u001b[0m \u001b[38;5;66;03m# Pop a message from the queue.\u001b[39;00m\n\u001b[0;32m    571\u001b[0m message \u001b[38;5;241m=\u001b[39m \u001b[38;5;28mself\u001b[39m\u001b[38;5;241m.\u001b[39mmessages\u001b[38;5;241m.\u001b[39mpopleft()\n",
      "File \u001b[1;32m~\\AppData\\Local\\Programs\\Python\\Python38\\lib\\site-packages\\websockets\\legacy\\protocol.py:935\u001b[0m, in \u001b[0;36mWebSocketCommonProtocol.ensure_open\u001b[1;34m(self)\u001b[0m\n\u001b[0;32m    932\u001b[0m         \u001b[38;5;28;01mreturn\u001b[39;00m\n\u001b[0;32m    934\u001b[0m \u001b[38;5;28;01mif\u001b[39;00m \u001b[38;5;28mself\u001b[39m\u001b[38;5;241m.\u001b[39mstate \u001b[38;5;129;01mis\u001b[39;00m State\u001b[38;5;241m.\u001b[39mCLOSED:\n\u001b[1;32m--> 935\u001b[0m     \u001b[38;5;28;01mraise\u001b[39;00m \u001b[38;5;28mself\u001b[39m\u001b[38;5;241m.\u001b[39mconnection_closed_exc()\n\u001b[0;32m    937\u001b[0m \u001b[38;5;28;01mif\u001b[39;00m \u001b[38;5;28mself\u001b[39m\u001b[38;5;241m.\u001b[39mstate \u001b[38;5;129;01mis\u001b[39;00m State\u001b[38;5;241m.\u001b[39mCLOSING:\n\u001b[0;32m    938\u001b[0m     \u001b[38;5;66;03m# If we started the closing handshake, wait for its completion to\u001b[39;00m\n\u001b[0;32m    939\u001b[0m     \u001b[38;5;66;03m# get the proper close code and reason. self.close_connection_task\u001b[39;00m\n\u001b[0;32m    940\u001b[0m     \u001b[38;5;66;03m# will complete within 4 or 5 * close_timeout after close(). The\u001b[39;00m\n\u001b[0;32m    941\u001b[0m     \u001b[38;5;66;03m# CLOSING state also occurs when failing the connection. In that\u001b[39;00m\n\u001b[0;32m    942\u001b[0m     \u001b[38;5;66;03m# case self.close_connection_task will complete even faster.\u001b[39;00m\n\u001b[0;32m    943\u001b[0m     \u001b[38;5;28;01mawait\u001b[39;00m asyncio\u001b[38;5;241m.\u001b[39mshield(\u001b[38;5;28mself\u001b[39m\u001b[38;5;241m.\u001b[39mclose_connection_task)\n",
      "\u001b[1;31mConnectionClosedError\u001b[0m: no close frame received or sent"
     ]
    }
   ],
   "source": [
    "import asyncio\n",
    "import websockets\n",
    "\n",
    "async def test_ws():\n",
    "    uri = \"ws://localhost:8000/kh-sit-flow\"\n",
    "    async with websockets.connect(uri) as websocket:\n",
    "        data = await websocket.recv()\n",
    "        print(data)\n",
    "\n",
    "await test_ws()"
   ]
  },
  {
   "cell_type": "code",
   "execution_count": null,
   "id": "27589973-62a0-4d0d-b9ba-177ddabd0193",
   "metadata": {},
   "outputs": [],
   "source": []
  }
 ],
 "metadata": {
  "kernelspec": {
   "display_name": "Python 3 (ipykernel)",
   "language": "python",
   "name": "python3"
  },
  "language_info": {
   "codemirror_mode": {
    "name": "ipython",
    "version": 3
   },
   "file_extension": ".py",
   "mimetype": "text/x-python",
   "name": "python",
   "nbconvert_exporter": "python",
   "pygments_lexer": "ipython3",
   "version": "3.8.10"
  }
 },
 "nbformat": 4,
 "nbformat_minor": 5
}
