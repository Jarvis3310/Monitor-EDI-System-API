{
 "cells": [
  {
   "cell_type": "code",
   "execution_count": 38,
   "id": "0eb8b754-157e-4403-a294-da1c7f672c4a",
   "metadata": {},
   "outputs": [
    {
     "ename": "ModuleNotFoundError",
     "evalue": "No module named 'uvicorn'",
     "output_type": "error",
     "traceback": [
      "\u001b[1;31m---------------------------------------------------------------------------\u001b[0m",
      "\u001b[1;31mModuleNotFoundError\u001b[0m                       Traceback (most recent call last)",
      "Cell \u001b[1;32mIn[38], line 51\u001b[0m\n\u001b[0;32m     48\u001b[0m     \u001b[38;5;28;01mawait\u001b[39;00m websocket\u001b[38;5;241m.\u001b[39mclose()\n\u001b[0;32m     50\u001b[0m \u001b[38;5;28;01mif\u001b[39;00m \u001b[38;5;18m__name__\u001b[39m \u001b[38;5;241m==\u001b[39m \u001b[38;5;124m\"\u001b[39m\u001b[38;5;124m__main__\u001b[39m\u001b[38;5;124m\"\u001b[39m:\n\u001b[1;32m---> 51\u001b[0m     \u001b[38;5;28;01mimport\u001b[39;00m \u001b[38;5;21;01muvicorn\u001b[39;00m\n\u001b[0;32m     52\u001b[0m     uvicorn\u001b[38;5;241m.\u001b[39mrun(app, host\u001b[38;5;241m=\u001b[39m\u001b[38;5;124m\"\u001b[39m\u001b[38;5;124m0.0.0.0\u001b[39m\u001b[38;5;124m\"\u001b[39m, port\u001b[38;5;241m=\u001b[39m\u001b[38;5;241m8000\u001b[39m)\n",
      "\u001b[1;31mModuleNotFoundError\u001b[0m: No module named 'uvicorn'"
     ]
    }
   ],
   "source": [
    "import json\n",
    "import pymysql\n",
    "import base64\n",
    "import uvicorn\n",
    "from Crypto.Cipher import AES\n",
    "from Crypto.Hash import SHA256\n",
    "from fastapi import FastAPI, WebSocket\n",
    "\n",
    "with open(\"sql_config.json\", \"r\") as f:\n",
    "    config = json.load(f)\n",
    "    boss_config = config[\"boss\"]\n",
    "\n",
    "def decrypt(source):\n",
    "    source = base64.b64decode(source.encode(\"utf8\"))\n",
    "    key = SHA256.new(b\"ZDu9FpVGBWGUD3FNfuzMMxPcs2snrd9HFrmvUxWp5PTm28TED73yMM6nYRMwFDdY\").digest()\n",
    "    IV = source[:AES.block_size]\n",
    "    decryptor = AES.new(key, AES.MODE_CBC, IV)\n",
    "    data = decryptor.decrypt(source[AES.block_size:])\n",
    "    padding = data[-1]\n",
    "    if data[-padding:] != bytes([padding]) * padding:\n",
    "        return \"\"\n",
    "    return data[:-padding].decode(\"utf8\")\n",
    "\n",
    "app = FastAPI()\n",
    "\n",
    "def kh_sit_flow():\n",
    "    connect = pymysql.connect(\n",
    "                host=boss_config[\"host\"], \n",
    "                user=boss_config['user']+'@'+boss_config['host'].split('.mariadb')[0],\n",
    "                passwd=decrypt(boss_config[\"password\"]), \n",
    "                db=boss_config['db'], \n",
    "                charset=\"utf8\",\n",
    "                ssl={\"fake_flag_to_enable_tls\":True})\n",
    "    with connect.cursor() as cursor:\n",
    "        sql = \"SELECT EDI_NO, EDI_ID, EDI_FLOW_ID, JOB_ALL_CN, DATA_DATE, STATUS_ID, RESULT_ID, IS_AUTOMATIC, DATE_FORMAT(DT_BEGIN, '%Y-%m-%d %H:%i') as DT_BEGIN, DATE_FORMAT(DT_END, '%Y-%m-%d %H:%i') as DT_END FROM CHAIEDI.EDI_FLOW\"\n",
    "        cursor.execute(sql)\n",
    "        data = cursor.fetchall()\n",
    "    connect.close()\n",
    "    return data\n",
    "\n",
    "def kh_sit_job():\n",
    "    connect = pymysql.connect(\n",
    "                host=boss_config[\"host\"], \n",
    "                user=boss_config['user']+'@'+boss_config['host'].split('.mariadb')[0],\n",
    "                passwd=decrypt(boss_config[\"password\"]), \n",
    "                db=boss_config['db'], \n",
    "                charset=\"utf8\",\n",
    "                ssl={\"fake_flag_to_enable_tls\":True})\n",
    "    with connect.cursor() as cursor:\n",
    "        sql = \"SELECT EDI_NO, EDI_JOB_NO, EDI_JOB_ID, EDI_JOB_TYPE, STATUS_ID, RESULT_ID, IS_AUTOMATIC, DATE_FORMAT(DT_BEGIN, '%Y-%m-%d %H:%i') as DT_BEGIN, DATE_FORMAT(DT_END, '%Y-%m-%d %H:%i') as DT_END FROM CHAIEDI.EDI_JOB\"\n",
    "        cursor.execute(sql)\n",
    "        data = cursor.fetchall()\n",
    "    connect.close()\n",
    "    return data\n",
    "\n",
    "@app.websocket(\"/kh-sit-flow\")\n",
    "async def websocket_endpoint(websocket: WebSocket):\n",
    "    await websocket.accept()\n",
    "    kh_sit_flow_data = kh_sit_flow()\n",
    "    for row in kh_sit_flow_data:\n",
    "        await websocket.send_json(row)\n",
    "    await websocket.close()\n",
    "\n",
    "@app.websocket(\"/kh-sit-job\")\n",
    "async def websocket_endpoint(websocket: WebSocket):\n",
    "    await websocket.accept()\n",
    "    kh_sit_job_data = kh_sit_flow()\n",
    "    for row in kh_sit_job_data:\n",
    "        await websocket.send_json(row)\n",
    "    await websocket.close()\n",
    "\n",
    "if __name__ == \"__main__\":\n",
    "    uvicorn.run(app, host=\"0.0.0.0\", port=8000)\n"
   ]
  },
  {
   "cell_type": "code",
   "execution_count": 15,
   "id": "5f260738-a433-4fde-911f-32f254adb3c6",
   "metadata": {},
   "outputs": [
    {
     "name": "stdout",
     "output_type": "stream",
     "text": [
      "[\"202307270001\",\"KHODS01\",\"SIGV\",\"20230727 20:34\",326,\"20230727\",\"F\",null,\"Y\"]\n"
     ]
    }
   ],
   "source": [
    "import asyncio\n",
    "import websockets\n",
    "\n",
    "async def test_ws():\n",
    "    uri = \"ws://localhost:8000/kh-sit\"\n",
    "    async with websockets.connect(uri) as websocket:\n",
    "        data = await websocket.recv()\n",
    "        print(data)\n",
    "\n",
    "await test_ws()"
   ]
  },
  {
   "cell_type": "code",
   "execution_count": null,
   "id": "27589973-62a0-4d0d-b9ba-177ddabd0193",
   "metadata": {},
   "outputs": [],
   "source": []
  }
 ],
 "metadata": {
  "kernelspec": {
   "display_name": "Python 3 (ipykernel)",
   "language": "python",
   "name": "python3"
  },
  "language_info": {
   "codemirror_mode": {
    "name": "ipython",
    "version": 3
   },
   "file_extension": ".py",
   "mimetype": "text/x-python",
   "name": "python",
   "nbconvert_exporter": "python",
   "pygments_lexer": "ipython3",
   "version": "3.8.10"
  }
 },
 "nbformat": 4,
 "nbformat_minor": 5
}
